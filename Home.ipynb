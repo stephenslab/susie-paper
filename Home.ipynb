{
 "cells": [
  {
   "cell_type": "markdown",
   "metadata": {
    "kernel": "SoS"
   },
   "source": [
    "# Code and data accompanying SuSiE manuscript (Wang et al, 2018)"
   ]
  },
  {
   "cell_type": "markdown",
   "metadata": {
    "kernel": "SoS"
   },
   "source": [
    "## Overview\n",
    "\n",
    "This repository contains code and data resources to accompany our research paper:\n",
    "\n",
    "> Wang, G., Sarkar, A., Carbonetto, P., & Stephens, M. (2020). A simple new approach to variable selection in regression, with application to genetic fine mapping. Journal of the Royal Statistical Society: Series B (Statistical Methodology). https://doi.org/10.1111/rssb.12388\n",
    "\n",
    "\n",
    "We provide several sets of resources:\n",
    "\n",
    "1. If you are primarily interested in applying SuSiE to your own data in a generic setting, please check out the [susieR package](https://stephenslab.github.io/susieR). A good place to start is the [vignettes](https://stephenslab.github.io/susieR/articles/index.html). \n",
    "\n",
    "2. To help understanding how SuSiE works we demonstrate here code and results for [the fine-mapping challenge](manuscript_results/pedagogical_example.html) presented in the \"Numerical Comparsions\" section of our paper. Additionally the [notebook here](manuscript_results/motivating_example.html) implementing the example described in the \"Background and motivations\" section our the manuscript, illustrate with a simple example the inference problem which motivated the development of SuSiE.\n",
    "\n",
    "3. If you would like to reproduce the fine-mapping benchmark of SuSiE with other methods (CAVIAR, FINEMAP and DAP-G), please see [here](finemapping_benchmark.html) for our implementation in the Dynamic Statistical Comparison framework, and [here](manuscript_results/numerical_results.html) to reproduce figures in the \"Numerical Comparisons\" section of the manuscript.\n",
    "\n",
    "4. If you would like to use SuSiE for fine-mapping of molecular traits similar to our data application of association analysis of splice QTL data please see [our analysis of Li et al 2016 data](manuscript_results/Li_2016_splice_QTL.html) for details: we provide a fine-mapping pipeline with SuSiE and DAP-G, and a splicing QTL enrichment analysis pipeline for SuSiE signals in functional regions in genome. Although not used by the manuscript there is an additional enrichment pipeline we provide for matched analysis for other molecular QTLs (not applicable to splicing QTL) as suggested in Li et al 2016. A series of commandlines were provided on the page to reproduce the data application section of the manuscript using these pipelines.\n",
    "\n",
    "5. You can explore the [example on change-point problem](manuscript_results/changepoint_example.html) to learn about application of SuSiE for more generic problems."
   ]
  },
  {
   "cell_type": "markdown",
   "metadata": {
    "kernel": "SoS"
   },
   "source": [
    "## Software requirement and general instructions to reproduce SuSiE manuscript results"
   ]
  },
  {
   "cell_type": "markdown",
   "metadata": {
    "kernel": "SoS"
   },
   "source": [
    "In addition to `susieR`, software required to reproduce numerical comparisons in the manuscript are `CAVIAR`, `FINEMAP` and `DAP-G`, and a benchmarking tool [`dsc`](https://stephenslab.github.io/dsc-wiki/). To reproduce the splicing QTL data analysis a bioinformatics pipeline tool [`SoS`](https://github.com/vatlab/SoS) is needed. \n",
    "\n",
    "Of course with some work it is possible to setup the computational environment on a Linux or Mac computer to reproduce & extend our work. Alternatively, we have developed [a docker image](https://github.com/stephenslab/susie-paper/blob/master/Dockerfile) that includes all software components necessary to run the analyses, configured to specified versions used in the manuscript. The image can be used both for evaluating the manuscript and for use in production. Unfortunately due to potential licensing restrictions with the `FINEMAP` program we cannot distribute the docker container on dockerhub. However it is straightforward to build and the docker image by yourself. In the rest of this section we discuss building and using the docker image for the manuscript.\n",
    "\n",
    "Docker can run on\n",
    "most popular operating systems (Mac, Windows and Linux) and cloud\n",
    "computing services such as Amazon Web Services and Microsoft Azure. If\n",
    "you have not used Docker before, you might want to read\n",
    "[this](https://docs.docker.com/engine/docker-overview) to learn the basic concepts and understand the\n",
    "main benefits of Docker.\n",
    "\n",
    "If you find a bug in any of these steps, please post an\n",
    "[issue](https://github.com/stephenslab/susie-paper/issues).\n",
    "\n",
    "### Download and install Docker\n",
    "\n",
    "Download [Docker][docker-download] (note that a free\n",
    "[community edition][docker-ce] of Docker is available), and install it\n",
    "following the instructions provided on the Docker website. Once you\n",
    "have installed Docker, check that Docker is working correctly by\n",
    "following Part 1 of the [\"Getting Started\" guide][docker-getting-started].\n",
    "If you are new to Docker, we recommend reading the entire \"Getting\n",
    "Started\" guide.\n",
    "\n",
    "**Note:** Setting up Docker requires that you have administrator\n",
    "access to your computer. [Singularity][singularity] is an\n",
    "alternative that accepts Docker images and does not require\n",
    "administrator access.\n",
    "\n",
    "### Build the docker image\n",
    "\n",
    "Under the root of the repository where `Dockerfile` is located,\n",
    "\n",
    "```bash\n",
    "docker build -t susie/susie-paper .\n",
    "```\n",
    "\n",
    "It will take a while (> 30min) to download and install the system and required software.\n",
    "\n",
    "### Test the docker build\n",
    "\n",
    "Run this `alias` command in the shell, which will be used below to run\n",
    "commands inside the Docker container:\n",
    "\n",
    "```bash\n",
    "alias susie-docker='docker run --security-opt label:disable -t --rm '\\\n",
    "'-P -h SuSiE -w $PWD -v $HOME:/home/$USER -v /tmp:/tmp -v $PWD:$PWD '\\\n",
    "'-u $UID:${GROUPS[0]} -e HOME=/home/$USER -e USER=$USER susie/susie-paper'\n",
    "```\n",
    "\n",
    "The `-v` flags in this command map directories between the standard\n",
    "computing environment and the Docker container. Since the analyses\n",
    "below will write files to these directories, it is important to ensure\n",
    "that:\n",
    "\n",
    "  + Environment variables `$HOME` and `$PWD` are set to valid and\n",
    "    writeable directories (usually your home and current working\n",
    "    directories, respectively).\n",
    "\n",
    "  + `/tmp` should also be a valid and writeable directory.\n",
    "\n",
    "If any of these statements are not true, please adjust the `alias`\n",
    "accordingly. The remaining options only affect operation of the\n",
    "container, and so should function the same regardless of your operating\n",
    "system.\n",
    "\n",
    "Next, run a simple command in the Docker container to check that has\n",
    "loaded successfully:\n",
    "\n",
    "```\n",
    "susie-docker uname -sn\n",
    "```\n",
    "\n",
    "If the container was successfully run, you should see this information\n",
    "about the Docker container outputted to the screen:\n",
    "\n",
    "```\n",
    "Linux SuSiE\n",
    "```\n",
    "\n",
    "You can also run these commands to show the information about the\n",
    "image downloaded to your computer and the container that has run\n",
    "(and exited):\n",
    "\n",
    "```bash\n",
    "docker image list\n",
    "docker container list --all\n",
    "```\n",
    "\n",
    "*Note:* If you get error \"Cannot connect to the Docker daemon. Is the\n",
    "docker daemon running on this host?\" in Linux or macOS, see\n",
    "[here for Linux][docker-daemon-linux]\n",
    "or [here for Mac][docker-daemon-mac] for\n",
    "suggestions on how to resolve this issue.\n",
    "\n",
    "### Reproducing SuSiE manuscript results\n",
    "\n",
    "Simply add `susie-docker` at the beginning of all commands documented in other documentation pages this repository to indicate the commands are to be executed from software in the docker image. For example to export benchmark code and run the numerical comparions, the documented command is:\n",
    "\n",
    "```bash\n",
    "./export.sos\n",
    "dsc susie.dsc --target run_comparison -o toy_comparison\n",
    "```\n",
    "\n",
    "To run from docker,\n",
    "\n",
    "```bash\n",
    "susie-docker ./export.sos\n",
    "susie-docker dsc susie.dsc --target run_comparison -o toy_comparison\n",
    "```\n",
    "\n",
    "[docker-overview]: https://docs.docker.com/engine/docker-overview\n",
    "[docker-getting-started]: https://docs.docker.com/get-started\n",
    "[docker-download]: https://docs.docker.com/install\n",
    "[docker-prune]: https://stackoverflow.com/questions/17014263/should-i-be-concerned-about-excess-non-running-docker-containers\n",
    "[docker-ce]: https://www.docker.com/community-edition\n",
    "[singularity]: https://singularity.lbl.gov/docs-docker\n",
    "[docker-daemon-linux]: https://askubuntu.com/questions/477551/how-can-i-use-docker-without-sudo\n",
    "[docker-daemon-mac]: https://github.com/wodby/docker4drupal/issues/15"
   ]
  },
  {
   "cell_type": "markdown",
   "metadata": {
    "kernel": "SoS"
   },
   "source": [
    "## Citing this repository\n",
    "\n",
    "If you find any of the source code in this repository useful for your work, please cite our manuscript, Wang et al (2018). The full citation is given above. Please also cite the Zenodo archive for this repository:\n",
    "\n",
    "> Gao Wang, Abhishek Sarkar, Peter Carbonetto and Matthew Stephens (2018), Code and data accompanying SuSiE manuscript (Wang et al, 2018), version 1.0, Zenodo, [doi:10.5281/zenodo.2368676](https://doi.org/10.5281/zenodo.2368676)."
   ]
  },
  {
   "cell_type": "markdown",
   "metadata": {
    "kernel": "SoS"
   },
   "source": [
    "## License\n",
    "\n",
    "Copyright (c) 2017-2018, Gao Wang, Abhishek Sarkar, Peter Carbonetto and Matthew Stephens.\n",
    "\n",
    "All source code and software in this repository are made available under the terms of the [MIT license](https://opensource.org/licenses/mit-license.html)."
   ]
  }
 ],
 "metadata": {
  "kernelspec": {
   "display_name": "SoS",
   "language": "sos",
   "name": "sos"
  },
  "language_info": {
   "codemirror_mode": "sos",
   "file_extension": ".sos",
   "mimetype": "text/x-sos",
   "name": "sos",
   "nbconvert_exporter": "sos_notebook.converter.SoS_Exporter",
   "pygments_lexer": "sos"
  },
  "sos": {
   "default_kernel": "SoS",
   "kernels": [
    [
     "SoS",
     "sos",
     "",
     ""
    ]
   ]
  }
 },
 "nbformat": 4,
 "nbformat_minor": 4
}
